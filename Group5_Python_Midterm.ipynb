{
  "cells": [
    {
      "cell_type": "code",
      "execution_count": null,
      "id": "45eeec67",
      "metadata": {
        "id": "45eeec67"
      },
      "outputs": [],
      "source": [
        "import pandas as pd\n",
        "import numpy as np\n",
        "import matplotlib.pyplot as plt"
      ]
    },
    {
      "cell_type": "code",
      "execution_count": null,
      "id": "f9bce04a",
      "metadata": {
        "id": "f9bce04a",
        "outputId": "315d531e-6b0f-4f5a-f5bf-182094f1494f"
      },
      "outputs": [
        {
          "data": {
            "text/html": [
              "<div>\n",
              "<style scoped>\n",
              "    .dataframe tbody tr th:only-of-type {\n",
              "        vertical-align: middle;\n",
              "    }\n",
              "\n",
              "    .dataframe tbody tr th {\n",
              "        vertical-align: top;\n",
              "    }\n",
              "\n",
              "    .dataframe thead th {\n",
              "        text-align: right;\n",
              "    }\n",
              "</style>\n",
              "<table border=\"1\" class=\"dataframe\">\n",
              "  <thead>\n",
              "    <tr style=\"text-align: right;\">\n",
              "      <th></th>\n",
              "      <th>track_name</th>\n",
              "      <th>artist(s)_name</th>\n",
              "      <th>artist_count</th>\n",
              "      <th>released_year</th>\n",
              "      <th>released_month</th>\n",
              "      <th>released_day</th>\n",
              "      <th>in_spotify_playlists</th>\n",
              "      <th>in_spotify_charts</th>\n",
              "      <th>streams</th>\n",
              "      <th>in_apple_playlists</th>\n",
              "      <th>...</th>\n",
              "      <th>bpm</th>\n",
              "      <th>key</th>\n",
              "      <th>mode</th>\n",
              "      <th>danceability_%</th>\n",
              "      <th>valence_%</th>\n",
              "      <th>energy_%</th>\n",
              "      <th>acousticness_%</th>\n",
              "      <th>instrumentalness_%</th>\n",
              "      <th>liveness_%</th>\n",
              "      <th>speechiness_%</th>\n",
              "    </tr>\n",
              "  </thead>\n",
              "  <tbody>\n",
              "    <tr>\n",
              "      <th>0</th>\n",
              "      <td>Seven (feat. Latto) (Explicit Ver.)</td>\n",
              "      <td>Latto, Jung Kook</td>\n",
              "      <td>2</td>\n",
              "      <td>2023</td>\n",
              "      <td>7</td>\n",
              "      <td>14</td>\n",
              "      <td>553</td>\n",
              "      <td>147</td>\n",
              "      <td>141381703</td>\n",
              "      <td>43</td>\n",
              "      <td>...</td>\n",
              "      <td>125</td>\n",
              "      <td>B</td>\n",
              "      <td>Major</td>\n",
              "      <td>80</td>\n",
              "      <td>89</td>\n",
              "      <td>83</td>\n",
              "      <td>31</td>\n",
              "      <td>0</td>\n",
              "      <td>8</td>\n",
              "      <td>4</td>\n",
              "    </tr>\n",
              "    <tr>\n",
              "      <th>1</th>\n",
              "      <td>LALA</td>\n",
              "      <td>Myke Towers</td>\n",
              "      <td>1</td>\n",
              "      <td>2023</td>\n",
              "      <td>3</td>\n",
              "      <td>23</td>\n",
              "      <td>1474</td>\n",
              "      <td>48</td>\n",
              "      <td>133716286</td>\n",
              "      <td>48</td>\n",
              "      <td>...</td>\n",
              "      <td>92</td>\n",
              "      <td>C#</td>\n",
              "      <td>Major</td>\n",
              "      <td>71</td>\n",
              "      <td>61</td>\n",
              "      <td>74</td>\n",
              "      <td>7</td>\n",
              "      <td>0</td>\n",
              "      <td>10</td>\n",
              "      <td>4</td>\n",
              "    </tr>\n",
              "    <tr>\n",
              "      <th>2</th>\n",
              "      <td>vampire</td>\n",
              "      <td>Olivia Rodrigo</td>\n",
              "      <td>1</td>\n",
              "      <td>2023</td>\n",
              "      <td>6</td>\n",
              "      <td>30</td>\n",
              "      <td>1397</td>\n",
              "      <td>113</td>\n",
              "      <td>140003974</td>\n",
              "      <td>94</td>\n",
              "      <td>...</td>\n",
              "      <td>138</td>\n",
              "      <td>F</td>\n",
              "      <td>Major</td>\n",
              "      <td>51</td>\n",
              "      <td>32</td>\n",
              "      <td>53</td>\n",
              "      <td>17</td>\n",
              "      <td>0</td>\n",
              "      <td>31</td>\n",
              "      <td>6</td>\n",
              "    </tr>\n",
              "    <tr>\n",
              "      <th>3</th>\n",
              "      <td>Cruel Summer</td>\n",
              "      <td>Taylor Swift</td>\n",
              "      <td>1</td>\n",
              "      <td>2019</td>\n",
              "      <td>8</td>\n",
              "      <td>23</td>\n",
              "      <td>7858</td>\n",
              "      <td>100</td>\n",
              "      <td>800840817</td>\n",
              "      <td>116</td>\n",
              "      <td>...</td>\n",
              "      <td>170</td>\n",
              "      <td>A</td>\n",
              "      <td>Major</td>\n",
              "      <td>55</td>\n",
              "      <td>58</td>\n",
              "      <td>72</td>\n",
              "      <td>11</td>\n",
              "      <td>0</td>\n",
              "      <td>11</td>\n",
              "      <td>15</td>\n",
              "    </tr>\n",
              "    <tr>\n",
              "      <th>4</th>\n",
              "      <td>WHERE SHE GOES</td>\n",
              "      <td>Bad Bunny</td>\n",
              "      <td>1</td>\n",
              "      <td>2023</td>\n",
              "      <td>5</td>\n",
              "      <td>18</td>\n",
              "      <td>3133</td>\n",
              "      <td>50</td>\n",
              "      <td>303236322</td>\n",
              "      <td>84</td>\n",
              "      <td>...</td>\n",
              "      <td>144</td>\n",
              "      <td>A</td>\n",
              "      <td>Minor</td>\n",
              "      <td>65</td>\n",
              "      <td>23</td>\n",
              "      <td>80</td>\n",
              "      <td>14</td>\n",
              "      <td>63</td>\n",
              "      <td>11</td>\n",
              "      <td>6</td>\n",
              "    </tr>\n",
              "    <tr>\n",
              "      <th>...</th>\n",
              "      <td>...</td>\n",
              "      <td>...</td>\n",
              "      <td>...</td>\n",
              "      <td>...</td>\n",
              "      <td>...</td>\n",
              "      <td>...</td>\n",
              "      <td>...</td>\n",
              "      <td>...</td>\n",
              "      <td>...</td>\n",
              "      <td>...</td>\n",
              "      <td>...</td>\n",
              "      <td>...</td>\n",
              "      <td>...</td>\n",
              "      <td>...</td>\n",
              "      <td>...</td>\n",
              "      <td>...</td>\n",
              "      <td>...</td>\n",
              "      <td>...</td>\n",
              "      <td>...</td>\n",
              "      <td>...</td>\n",
              "      <td>...</td>\n",
              "    </tr>\n",
              "    <tr>\n",
              "      <th>948</th>\n",
              "      <td>My Mind &amp; Me</td>\n",
              "      <td>Selena Gomez</td>\n",
              "      <td>1</td>\n",
              "      <td>2022</td>\n",
              "      <td>11</td>\n",
              "      <td>3</td>\n",
              "      <td>953</td>\n",
              "      <td>0</td>\n",
              "      <td>91473363</td>\n",
              "      <td>61</td>\n",
              "      <td>...</td>\n",
              "      <td>144</td>\n",
              "      <td>A</td>\n",
              "      <td>Major</td>\n",
              "      <td>60</td>\n",
              "      <td>24</td>\n",
              "      <td>39</td>\n",
              "      <td>57</td>\n",
              "      <td>0</td>\n",
              "      <td>8</td>\n",
              "      <td>3</td>\n",
              "    </tr>\n",
              "    <tr>\n",
              "      <th>949</th>\n",
              "      <td>Bigger Than The Whole Sky</td>\n",
              "      <td>Taylor Swift</td>\n",
              "      <td>1</td>\n",
              "      <td>2022</td>\n",
              "      <td>10</td>\n",
              "      <td>21</td>\n",
              "      <td>1180</td>\n",
              "      <td>0</td>\n",
              "      <td>121871870</td>\n",
              "      <td>4</td>\n",
              "      <td>...</td>\n",
              "      <td>166</td>\n",
              "      <td>F#</td>\n",
              "      <td>Major</td>\n",
              "      <td>42</td>\n",
              "      <td>7</td>\n",
              "      <td>24</td>\n",
              "      <td>83</td>\n",
              "      <td>1</td>\n",
              "      <td>12</td>\n",
              "      <td>6</td>\n",
              "    </tr>\n",
              "    <tr>\n",
              "      <th>950</th>\n",
              "      <td>A Veces (feat. Feid)</td>\n",
              "      <td>Feid, Paulo Londra</td>\n",
              "      <td>2</td>\n",
              "      <td>2022</td>\n",
              "      <td>11</td>\n",
              "      <td>3</td>\n",
              "      <td>573</td>\n",
              "      <td>0</td>\n",
              "      <td>73513683</td>\n",
              "      <td>2</td>\n",
              "      <td>...</td>\n",
              "      <td>92</td>\n",
              "      <td>C#</td>\n",
              "      <td>Major</td>\n",
              "      <td>80</td>\n",
              "      <td>81</td>\n",
              "      <td>67</td>\n",
              "      <td>4</td>\n",
              "      <td>0</td>\n",
              "      <td>8</td>\n",
              "      <td>6</td>\n",
              "    </tr>\n",
              "    <tr>\n",
              "      <th>951</th>\n",
              "      <td>En La De Ella</td>\n",
              "      <td>Feid, Sech, Jhayco</td>\n",
              "      <td>3</td>\n",
              "      <td>2022</td>\n",
              "      <td>10</td>\n",
              "      <td>20</td>\n",
              "      <td>1320</td>\n",
              "      <td>0</td>\n",
              "      <td>133895612</td>\n",
              "      <td>29</td>\n",
              "      <td>...</td>\n",
              "      <td>97</td>\n",
              "      <td>C#</td>\n",
              "      <td>Major</td>\n",
              "      <td>82</td>\n",
              "      <td>67</td>\n",
              "      <td>77</td>\n",
              "      <td>8</td>\n",
              "      <td>0</td>\n",
              "      <td>12</td>\n",
              "      <td>5</td>\n",
              "    </tr>\n",
              "    <tr>\n",
              "      <th>952</th>\n",
              "      <td>Alone</td>\n",
              "      <td>Burna Boy</td>\n",
              "      <td>1</td>\n",
              "      <td>2022</td>\n",
              "      <td>11</td>\n",
              "      <td>4</td>\n",
              "      <td>782</td>\n",
              "      <td>2</td>\n",
              "      <td>96007391</td>\n",
              "      <td>27</td>\n",
              "      <td>...</td>\n",
              "      <td>90</td>\n",
              "      <td>E</td>\n",
              "      <td>Minor</td>\n",
              "      <td>61</td>\n",
              "      <td>32</td>\n",
              "      <td>67</td>\n",
              "      <td>15</td>\n",
              "      <td>0</td>\n",
              "      <td>11</td>\n",
              "      <td>5</td>\n",
              "    </tr>\n",
              "  </tbody>\n",
              "</table>\n",
              "<p>953 rows × 24 columns</p>\n",
              "</div>"
            ],
            "text/plain": [
              "                              track_name      artist(s)_name  artist_count  \\\n",
              "0    Seven (feat. Latto) (Explicit Ver.)    Latto, Jung Kook             2   \n",
              "1                                   LALA         Myke Towers             1   \n",
              "2                                vampire      Olivia Rodrigo             1   \n",
              "3                           Cruel Summer        Taylor Swift             1   \n",
              "4                         WHERE SHE GOES           Bad Bunny             1   \n",
              "..                                   ...                 ...           ...   \n",
              "948                         My Mind & Me        Selena Gomez             1   \n",
              "949            Bigger Than The Whole Sky        Taylor Swift             1   \n",
              "950                 A Veces (feat. Feid)  Feid, Paulo Londra             2   \n",
              "951                        En La De Ella  Feid, Sech, Jhayco             3   \n",
              "952                                Alone           Burna Boy             1   \n",
              "\n",
              "     released_year  released_month  released_day  in_spotify_playlists  \\\n",
              "0             2023               7            14                   553   \n",
              "1             2023               3            23                  1474   \n",
              "2             2023               6            30                  1397   \n",
              "3             2019               8            23                  7858   \n",
              "4             2023               5            18                  3133   \n",
              "..             ...             ...           ...                   ...   \n",
              "948           2022              11             3                   953   \n",
              "949           2022              10            21                  1180   \n",
              "950           2022              11             3                   573   \n",
              "951           2022              10            20                  1320   \n",
              "952           2022              11             4                   782   \n",
              "\n",
              "     in_spotify_charts    streams  in_apple_playlists  ...  bpm key   mode  \\\n",
              "0                  147  141381703                  43  ...  125   B  Major   \n",
              "1                   48  133716286                  48  ...   92  C#  Major   \n",
              "2                  113  140003974                  94  ...  138   F  Major   \n",
              "3                  100  800840817                 116  ...  170   A  Major   \n",
              "4                   50  303236322                  84  ...  144   A  Minor   \n",
              "..                 ...        ...                 ...  ...  ...  ..    ...   \n",
              "948                  0   91473363                  61  ...  144   A  Major   \n",
              "949                  0  121871870                   4  ...  166  F#  Major   \n",
              "950                  0   73513683                   2  ...   92  C#  Major   \n",
              "951                  0  133895612                  29  ...   97  C#  Major   \n",
              "952                  2   96007391                  27  ...   90   E  Minor   \n",
              "\n",
              "    danceability_%  valence_% energy_% acousticness_%  instrumentalness_%  \\\n",
              "0               80         89       83             31                   0   \n",
              "1               71         61       74              7                   0   \n",
              "2               51         32       53             17                   0   \n",
              "3               55         58       72             11                   0   \n",
              "4               65         23       80             14                  63   \n",
              "..             ...        ...      ...            ...                 ...   \n",
              "948             60         24       39             57                   0   \n",
              "949             42          7       24             83                   1   \n",
              "950             80         81       67              4                   0   \n",
              "951             82         67       77              8                   0   \n",
              "952             61         32       67             15                   0   \n",
              "\n",
              "     liveness_%  speechiness_%  \n",
              "0             8              4  \n",
              "1            10              4  \n",
              "2            31              6  \n",
              "3            11             15  \n",
              "4            11              6  \n",
              "..          ...            ...  \n",
              "948           8              3  \n",
              "949          12              6  \n",
              "950           8              6  \n",
              "951          12              5  \n",
              "952          11              5  \n",
              "\n",
              "[953 rows x 24 columns]"
            ]
          },
          "execution_count": 18,
          "metadata": {},
          "output_type": "execute_result"
        }
      ],
      "source": [
        "df = pd.read_csv(\"/content/spotify-2023.csv\", encoding='ISO-8859-1')\n",
        "df"
      ]
    },
    {
      "cell_type": "code",
      "execution_count": null,
      "id": "55046951",
      "metadata": {
        "id": "55046951",
        "outputId": "c0c99f3c-ed75-414c-e720-5a3ee199162d"
      },
      "outputs": [
        {
          "name": "stdout",
          "output_type": "stream",
          "text": [
            "<class 'pandas.core.frame.DataFrame'>\n",
            "RangeIndex: 953 entries, 0 to 952\n",
            "Data columns (total 24 columns):\n",
            " #   Column                Non-Null Count  Dtype \n",
            "---  ------                --------------  ----- \n",
            " 0   track_name            953 non-null    object\n",
            " 1   artist(s)_name        953 non-null    object\n",
            " 2   artist_count          953 non-null    int64 \n",
            " 3   released_year         953 non-null    int64 \n",
            " 4   released_month        953 non-null    int64 \n",
            " 5   released_day          953 non-null    int64 \n",
            " 6   in_spotify_playlists  953 non-null    int64 \n",
            " 7   in_spotify_charts     953 non-null    int64 \n",
            " 8   streams               953 non-null    object\n",
            " 9   in_apple_playlists    953 non-null    int64 \n",
            " 10  in_apple_charts       953 non-null    int64 \n",
            " 11  in_deezer_playlists   953 non-null    object\n",
            " 12  in_deezer_charts      953 non-null    int64 \n",
            " 13  in_shazam_charts      903 non-null    object\n",
            " 14  bpm                   953 non-null    int64 \n",
            " 15  key                   858 non-null    object\n",
            " 16  mode                  953 non-null    object\n",
            " 17  danceability_%        953 non-null    int64 \n",
            " 18  valence_%             953 non-null    int64 \n",
            " 19  energy_%              953 non-null    int64 \n",
            " 20  acousticness_%        953 non-null    int64 \n",
            " 21  instrumentalness_%    953 non-null    int64 \n",
            " 22  liveness_%            953 non-null    int64 \n",
            " 23  speechiness_%         953 non-null    int64 \n",
            "dtypes: int64(17), object(7)\n",
            "memory usage: 178.8+ KB\n"
          ]
        }
      ],
      "source": [
        "df.info()"
      ]
    },
    {
      "cell_type": "markdown",
      "id": "2fae2334",
      "metadata": {
        "id": "2fae2334"
      },
      "source": [
        "\n",
        "\n",
        "Observations\n",
        "\n",
        "The data consists of 23 columns\n",
        "some rows have null values\n",
        "\n",
        "\n",
        "Data pre-processing\n",
        "\n",
        "There is a row in which wrong values are there in the \"streams\" column so we have to remove this index 574.\n",
        " After removing that row we can convert the streams column into intger data type"
      ]
    },
    {
      "cell_type": "code",
      "execution_count": null,
      "id": "9e449782",
      "metadata": {
        "id": "9e449782"
      },
      "outputs": [],
      "source": [
        "df = df.drop(index = 574)\n",
        "df['streams'] = df['streams'].apply(lambda x: int(x))"
      ]
    },
    {
      "cell_type": "code",
      "execution_count": null,
      "id": "a74886be",
      "metadata": {
        "id": "a74886be",
        "outputId": "bd64ba84-da1c-46d7-fe6b-173da61c35b8"
      },
      "outputs": [
        {
          "data": {
            "text/plain": [
              "track_name               0\n",
              "artist(s)_name           0\n",
              "artist_count             0\n",
              "released_year            0\n",
              "released_month           0\n",
              "released_day             0\n",
              "in_spotify_playlists     0\n",
              "in_spotify_charts        0\n",
              "streams                  0\n",
              "in_apple_playlists       0\n",
              "in_apple_charts          0\n",
              "in_deezer_playlists      0\n",
              "in_deezer_charts         0\n",
              "in_shazam_charts        50\n",
              "bpm                      0\n",
              "key                     95\n",
              "mode                     0\n",
              "danceability_%           0\n",
              "valence_%                0\n",
              "energy_%                 0\n",
              "acousticness_%           0\n",
              "instrumentalness_%       0\n",
              "liveness_%               0\n",
              "speechiness_%            0\n",
              "dtype: int64"
            ]
          },
          "execution_count": 21,
          "metadata": {},
          "output_type": "execute_result"
        }
      ],
      "source": [
        "df.isnull().sum()"
      ]
    },
    {
      "cell_type": "code",
      "execution_count": null,
      "id": "86f26a01",
      "metadata": {
        "id": "86f26a01",
        "outputId": "49c82e72-bf5d-4bbc-c035-134d54a1dd83"
      },
      "outputs": [
        {
          "data": {
            "text/plain": [
              "track_name               0\n",
              "artist(s)_name           0\n",
              "artist_count             0\n",
              "released_year            0\n",
              "released_month           0\n",
              "released_day             0\n",
              "in_spotify_playlists     0\n",
              "in_spotify_charts        0\n",
              "streams                  0\n",
              "in_apple_playlists       0\n",
              "in_apple_charts          0\n",
              "in_deezer_playlists      0\n",
              "in_deezer_charts         0\n",
              "in_shazam_charts         0\n",
              "bpm                      0\n",
              "key                     95\n",
              "mode                     0\n",
              "danceability_%           0\n",
              "valence_%                0\n",
              "energy_%                 0\n",
              "acousticness_%           0\n",
              "instrumentalness_%       0\n",
              "liveness_%               0\n",
              "speechiness_%            0\n",
              "dtype: int64"
            ]
          },
          "execution_count": 22,
          "metadata": {},
          "output_type": "execute_result"
        }
      ],
      "source": [
        "df[\"in_shazam_charts\"].fillna(0,inplace=True)\n",
        "df.isnull().sum()"
      ]
    },
    {
      "cell_type": "code",
      "execution_count": null,
      "id": "d13c59f8",
      "metadata": {
        "id": "d13c59f8",
        "outputId": "1b7ebe81-4f41-493a-e715-20f9122a8bc6"
      },
      "outputs": [
        {
          "data": {
            "text/html": [
              "<div>\n",
              "<style scoped>\n",
              "    .dataframe tbody tr th:only-of-type {\n",
              "        vertical-align: middle;\n",
              "    }\n",
              "\n",
              "    .dataframe tbody tr th {\n",
              "        vertical-align: top;\n",
              "    }\n",
              "\n",
              "    .dataframe thead th {\n",
              "        text-align: right;\n",
              "    }\n",
              "</style>\n",
              "<table border=\"1\" class=\"dataframe\">\n",
              "  <thead>\n",
              "    <tr style=\"text-align: right;\">\n",
              "      <th></th>\n",
              "      <th>track_name</th>\n",
              "      <th>artist(s)_name</th>\n",
              "      <th>artist_count</th>\n",
              "      <th>released_year</th>\n",
              "      <th>released_month</th>\n",
              "      <th>released_day</th>\n",
              "      <th>in_spotify_playlists</th>\n",
              "      <th>in_spotify_charts</th>\n",
              "      <th>streams</th>\n",
              "      <th>in_apple_playlists</th>\n",
              "      <th>...</th>\n",
              "      <th>bpm</th>\n",
              "      <th>key</th>\n",
              "      <th>mode</th>\n",
              "      <th>danceability_%</th>\n",
              "      <th>valence_%</th>\n",
              "      <th>energy_%</th>\n",
              "      <th>acousticness_%</th>\n",
              "      <th>instrumentalness_%</th>\n",
              "      <th>liveness_%</th>\n",
              "      <th>speechiness_%</th>\n",
              "    </tr>\n",
              "  </thead>\n",
              "  <tbody>\n",
              "    <tr>\n",
              "      <th>55</th>\n",
              "      <td>Blinding Lights</td>\n",
              "      <td>The Weeknd</td>\n",
              "      <td>1</td>\n",
              "      <td>2019</td>\n",
              "      <td>11</td>\n",
              "      <td>29</td>\n",
              "      <td>43899</td>\n",
              "      <td>69</td>\n",
              "      <td>3703895074</td>\n",
              "      <td>672</td>\n",
              "      <td>...</td>\n",
              "      <td>171</td>\n",
              "      <td>C#</td>\n",
              "      <td>Major</td>\n",
              "      <td>50</td>\n",
              "      <td>38</td>\n",
              "      <td>80</td>\n",
              "      <td>0</td>\n",
              "      <td>0</td>\n",
              "      <td>9</td>\n",
              "      <td>7</td>\n",
              "    </tr>\n",
              "    <tr>\n",
              "      <th>179</th>\n",
              "      <td>Shape of You</td>\n",
              "      <td>Ed Sheeran</td>\n",
              "      <td>1</td>\n",
              "      <td>2017</td>\n",
              "      <td>1</td>\n",
              "      <td>6</td>\n",
              "      <td>32181</td>\n",
              "      <td>10</td>\n",
              "      <td>3562543890</td>\n",
              "      <td>33</td>\n",
              "      <td>...</td>\n",
              "      <td>96</td>\n",
              "      <td>C#</td>\n",
              "      <td>Minor</td>\n",
              "      <td>83</td>\n",
              "      <td>93</td>\n",
              "      <td>65</td>\n",
              "      <td>58</td>\n",
              "      <td>0</td>\n",
              "      <td>9</td>\n",
              "      <td>8</td>\n",
              "    </tr>\n",
              "    <tr>\n",
              "      <th>86</th>\n",
              "      <td>Someone You Loved</td>\n",
              "      <td>Lewis Capaldi</td>\n",
              "      <td>1</td>\n",
              "      <td>2018</td>\n",
              "      <td>11</td>\n",
              "      <td>8</td>\n",
              "      <td>17836</td>\n",
              "      <td>53</td>\n",
              "      <td>2887241814</td>\n",
              "      <td>440</td>\n",
              "      <td>...</td>\n",
              "      <td>110</td>\n",
              "      <td>C#</td>\n",
              "      <td>Major</td>\n",
              "      <td>50</td>\n",
              "      <td>45</td>\n",
              "      <td>41</td>\n",
              "      <td>75</td>\n",
              "      <td>0</td>\n",
              "      <td>11</td>\n",
              "      <td>3</td>\n",
              "    </tr>\n",
              "    <tr>\n",
              "      <th>620</th>\n",
              "      <td>Dance Monkey</td>\n",
              "      <td>Tones and I</td>\n",
              "      <td>1</td>\n",
              "      <td>2019</td>\n",
              "      <td>5</td>\n",
              "      <td>10</td>\n",
              "      <td>24529</td>\n",
              "      <td>0</td>\n",
              "      <td>2864791672</td>\n",
              "      <td>533</td>\n",
              "      <td>...</td>\n",
              "      <td>98</td>\n",
              "      <td>F#</td>\n",
              "      <td>Minor</td>\n",
              "      <td>82</td>\n",
              "      <td>54</td>\n",
              "      <td>59</td>\n",
              "      <td>69</td>\n",
              "      <td>0</td>\n",
              "      <td>18</td>\n",
              "      <td>10</td>\n",
              "    </tr>\n",
              "    <tr>\n",
              "      <th>41</th>\n",
              "      <td>Sunflower - Spider-Man: Into the Spider-Verse</td>\n",
              "      <td>Post Malone, Swae Lee</td>\n",
              "      <td>2</td>\n",
              "      <td>2018</td>\n",
              "      <td>10</td>\n",
              "      <td>9</td>\n",
              "      <td>24094</td>\n",
              "      <td>78</td>\n",
              "      <td>2808096550</td>\n",
              "      <td>372</td>\n",
              "      <td>...</td>\n",
              "      <td>90</td>\n",
              "      <td>D</td>\n",
              "      <td>Major</td>\n",
              "      <td>76</td>\n",
              "      <td>91</td>\n",
              "      <td>50</td>\n",
              "      <td>54</td>\n",
              "      <td>0</td>\n",
              "      <td>7</td>\n",
              "      <td>5</td>\n",
              "    </tr>\n",
              "    <tr>\n",
              "      <th>162</th>\n",
              "      <td>One Dance</td>\n",
              "      <td>Drake, WizKid, Kyla</td>\n",
              "      <td>3</td>\n",
              "      <td>2016</td>\n",
              "      <td>4</td>\n",
              "      <td>4</td>\n",
              "      <td>43257</td>\n",
              "      <td>24</td>\n",
              "      <td>2713922350</td>\n",
              "      <td>433</td>\n",
              "      <td>...</td>\n",
              "      <td>104</td>\n",
              "      <td>C#</td>\n",
              "      <td>Major</td>\n",
              "      <td>77</td>\n",
              "      <td>36</td>\n",
              "      <td>63</td>\n",
              "      <td>1</td>\n",
              "      <td>0</td>\n",
              "      <td>36</td>\n",
              "      <td>5</td>\n",
              "    </tr>\n",
              "    <tr>\n",
              "      <th>84</th>\n",
              "      <td>STAY (with Justin Bieber)</td>\n",
              "      <td>Justin Bieber, The Kid Laroi</td>\n",
              "      <td>2</td>\n",
              "      <td>2021</td>\n",
              "      <td>7</td>\n",
              "      <td>9</td>\n",
              "      <td>17050</td>\n",
              "      <td>36</td>\n",
              "      <td>2665343922</td>\n",
              "      <td>492</td>\n",
              "      <td>...</td>\n",
              "      <td>170</td>\n",
              "      <td>C#</td>\n",
              "      <td>Major</td>\n",
              "      <td>59</td>\n",
              "      <td>48</td>\n",
              "      <td>76</td>\n",
              "      <td>4</td>\n",
              "      <td>0</td>\n",
              "      <td>10</td>\n",
              "      <td>5</td>\n",
              "    </tr>\n",
              "    <tr>\n",
              "      <th>140</th>\n",
              "      <td>Believer</td>\n",
              "      <td>Imagine Dragons</td>\n",
              "      <td>1</td>\n",
              "      <td>2017</td>\n",
              "      <td>1</td>\n",
              "      <td>31</td>\n",
              "      <td>18986</td>\n",
              "      <td>23</td>\n",
              "      <td>2594040133</td>\n",
              "      <td>250</td>\n",
              "      <td>...</td>\n",
              "      <td>125</td>\n",
              "      <td>A#</td>\n",
              "      <td>Minor</td>\n",
              "      <td>77</td>\n",
              "      <td>74</td>\n",
              "      <td>78</td>\n",
              "      <td>4</td>\n",
              "      <td>0</td>\n",
              "      <td>23</td>\n",
              "      <td>11</td>\n",
              "    </tr>\n",
              "    <tr>\n",
              "      <th>725</th>\n",
              "      <td>Closer</td>\n",
              "      <td>The Chainsmokers, Halsey</td>\n",
              "      <td>2</td>\n",
              "      <td>2016</td>\n",
              "      <td>5</td>\n",
              "      <td>31</td>\n",
              "      <td>28032</td>\n",
              "      <td>0</td>\n",
              "      <td>2591224264</td>\n",
              "      <td>315</td>\n",
              "      <td>...</td>\n",
              "      <td>95</td>\n",
              "      <td>G#</td>\n",
              "      <td>Major</td>\n",
              "      <td>75</td>\n",
              "      <td>64</td>\n",
              "      <td>52</td>\n",
              "      <td>41</td>\n",
              "      <td>0</td>\n",
              "      <td>11</td>\n",
              "      <td>3</td>\n",
              "    </tr>\n",
              "    <tr>\n",
              "      <th>48</th>\n",
              "      <td>Starboy</td>\n",
              "      <td>The Weeknd, Daft Punk</td>\n",
              "      <td>2</td>\n",
              "      <td>2016</td>\n",
              "      <td>9</td>\n",
              "      <td>21</td>\n",
              "      <td>29536</td>\n",
              "      <td>79</td>\n",
              "      <td>2565529693</td>\n",
              "      <td>281</td>\n",
              "      <td>...</td>\n",
              "      <td>186</td>\n",
              "      <td>G</td>\n",
              "      <td>Major</td>\n",
              "      <td>68</td>\n",
              "      <td>49</td>\n",
              "      <td>59</td>\n",
              "      <td>16</td>\n",
              "      <td>0</td>\n",
              "      <td>13</td>\n",
              "      <td>28</td>\n",
              "    </tr>\n",
              "  </tbody>\n",
              "</table>\n",
              "<p>10 rows × 24 columns</p>\n",
              "</div>"
            ],
            "text/plain": [
              "                                        track_name  \\\n",
              "55                                 Blinding Lights   \n",
              "179                                   Shape of You   \n",
              "86                               Someone You Loved   \n",
              "620                                   Dance Monkey   \n",
              "41   Sunflower - Spider-Man: Into the Spider-Verse   \n",
              "162                                      One Dance   \n",
              "84                       STAY (with Justin Bieber)   \n",
              "140                                       Believer   \n",
              "725                                         Closer   \n",
              "48                                         Starboy   \n",
              "\n",
              "                   artist(s)_name  artist_count  released_year  \\\n",
              "55                     The Weeknd             1           2019   \n",
              "179                    Ed Sheeran             1           2017   \n",
              "86                  Lewis Capaldi             1           2018   \n",
              "620                   Tones and I             1           2019   \n",
              "41          Post Malone, Swae Lee             2           2018   \n",
              "162           Drake, WizKid, Kyla             3           2016   \n",
              "84   Justin Bieber, The Kid Laroi             2           2021   \n",
              "140               Imagine Dragons             1           2017   \n",
              "725      The Chainsmokers, Halsey             2           2016   \n",
              "48          The Weeknd, Daft Punk             2           2016   \n",
              "\n",
              "     released_month  released_day  in_spotify_playlists  in_spotify_charts  \\\n",
              "55               11            29                 43899                 69   \n",
              "179               1             6                 32181                 10   \n",
              "86               11             8                 17836                 53   \n",
              "620               5            10                 24529                  0   \n",
              "41               10             9                 24094                 78   \n",
              "162               4             4                 43257                 24   \n",
              "84                7             9                 17050                 36   \n",
              "140               1            31                 18986                 23   \n",
              "725               5            31                 28032                  0   \n",
              "48                9            21                 29536                 79   \n",
              "\n",
              "        streams  in_apple_playlists  ...  bpm key   mode danceability_%  \\\n",
              "55   3703895074                 672  ...  171  C#  Major             50   \n",
              "179  3562543890                  33  ...   96  C#  Minor             83   \n",
              "86   2887241814                 440  ...  110  C#  Major             50   \n",
              "620  2864791672                 533  ...   98  F#  Minor             82   \n",
              "41   2808096550                 372  ...   90   D  Major             76   \n",
              "162  2713922350                 433  ...  104  C#  Major             77   \n",
              "84   2665343922                 492  ...  170  C#  Major             59   \n",
              "140  2594040133                 250  ...  125  A#  Minor             77   \n",
              "725  2591224264                 315  ...   95  G#  Major             75   \n",
              "48   2565529693                 281  ...  186   G  Major             68   \n",
              "\n",
              "     valence_% energy_% acousticness_%  instrumentalness_%  liveness_%  \\\n",
              "55          38       80              0                   0           9   \n",
              "179         93       65             58                   0           9   \n",
              "86          45       41             75                   0          11   \n",
              "620         54       59             69                   0          18   \n",
              "41          91       50             54                   0           7   \n",
              "162         36       63              1                   0          36   \n",
              "84          48       76              4                   0          10   \n",
              "140         74       78              4                   0          23   \n",
              "725         64       52             41                   0          11   \n",
              "48          49       59             16                   0          13   \n",
              "\n",
              "     speechiness_%  \n",
              "55               7  \n",
              "179              8  \n",
              "86               3  \n",
              "620             10  \n",
              "41               5  \n",
              "162              5  \n",
              "84               5  \n",
              "140             11  \n",
              "725              3  \n",
              "48              28  \n",
              "\n",
              "[10 rows x 24 columns]"
            ]
          },
          "execution_count": 23,
          "metadata": {},
          "output_type": "execute_result"
        }
      ],
      "source": [
        "df.sort_values(by=[\"streams\"],ascending=False).head(10)"
      ]
    },
    {
      "cell_type": "markdown",
      "id": "0d101c4d",
      "metadata": {
        "id": "0d101c4d"
      },
      "source": [
        "\n",
        "\n",
        "\n",
        "What were the most streamed artists on spotify in 2023?\n",
        "Since in the \"artits(s)_name\" column there are multiple artists in a single colummn and want to find the Number of streams for each artist we need to separate artists into seperate rows"
      ]
    },
    {
      "cell_type": "code",
      "execution_count": null,
      "id": "ea79b56c",
      "metadata": {
        "id": "ea79b56c",
        "outputId": "f3aa836f-40a6-48fe-d48b-f4e134155cd1"
      },
      "outputs": [
        {
          "data": {
            "text/plain": [
              "track_name              object\n",
              "artist_name             object\n",
              "artist_count             int64\n",
              "released_year            int64\n",
              "released_month           int64\n",
              "released_day             int64\n",
              "in_spotify_playlists     int64\n",
              "in_spotify_charts        int64\n",
              "streams                  int64\n",
              "in_apple_playlists       int64\n",
              "in_apple_charts          int64\n",
              "in_deezer_playlists     object\n",
              "in_deezer_charts         int64\n",
              "in_shazam_charts        object\n",
              "bpm                      int64\n",
              "key                     object\n",
              "mode                    object\n",
              "danceability_%           int64\n",
              "valence_%                int64\n",
              "energy_%                 int64\n",
              "acousticness_%           int64\n",
              "instrumentalness_%       int64\n",
              "liveness_%               int64\n",
              "speechiness_%            int64\n",
              "dtype: object"
            ]
          },
          "execution_count": 24,
          "metadata": {},
          "output_type": "execute_result"
        }
      ],
      "source": [
        "df[\"artist(s)_name\"] = df['artist(s)_name'].str.split(',')\n",
        "df_exploded = df.explode('artist(s)_name')\n",
        "df_exploded.rename(columns={\"artist(s)_name\":\"artist_name\"},inplace=True)\n",
        "df_exploded[\"artist_name\"]=df_exploded[\"artist_name\"].astype(str)\n",
        "df_exploded.dtypes"
      ]
    },
    {
      "cell_type": "code",
      "execution_count": null,
      "id": "44dc79af",
      "metadata": {
        "id": "44dc79af"
      },
      "outputs": [],
      "source": [
        "df_exploded[\"artist_name\"]=df_exploded[\"artist_name\"].str.lstrip()"
      ]
    },
    {
      "cell_type": "code",
      "execution_count": null,
      "id": "838a84a5",
      "metadata": {
        "id": "838a84a5",
        "outputId": "a0bd8336-3aaa-47ba-cf79-b1a5441a0924"
      },
      "outputs": [
        {
          "data": {
            "text/plain": [
              "artist_name\n",
              "The Weeknd       23929760757\n",
              "Bad Bunny        23813527270\n",
              "Ed Sheeran       15316587718\n",
              "Taylor Swift     14630378183\n",
              "Harry Styles     11608645649\n",
              "Eminem           10193727260\n",
              "Dua Lipa          9980020481\n",
              "Justin Bieber     8243081039\n",
              "Drake             8043031261\n",
              "BTS               7780428159\n",
              "Name: streams, dtype: int64"
            ]
          },
          "execution_count": 26,
          "metadata": {},
          "output_type": "execute_result"
        }
      ],
      "source": [
        "artist_streams = df_exploded.groupby('artist_name')['streams'].sum().sort_values(ascending=False)\n",
        "artist_streams.head(10)"
      ]
    },
    {
      "cell_type": "code",
      "execution_count": null,
      "id": "11dbed8d",
      "metadata": {
        "id": "11dbed8d",
        "outputId": "22fda7a7-80b9-4bf9-c8a4-db010c066f69"
      },
      "outputs": [
        {
          "data": {
            "image/png": "[encoded data removed]",
            "text/plain": [
              "<Figure size 1296x648 with 1 Axes>"
            ]
          },
          "metadata": {
            "needs_background": "light"
          },
          "output_type": "display_data"
        }
      ],
      "source": [
        "import seaborn as sns\n",
        "plt.figure(figsize=(18,9))\n",
        "plt.title(\"Most streamed artists Vs total streams\")\n",
        "plt.ylabel(\"Number of streams\")\n",
        "plt.xlabel(\"artist names\")\n",
        "sns.barplot(x=artist_streams.index.tolist()[:11],y=artist_streams.values.tolist()[:11])\n",
        "plt.show()"
      ]
    },
    {
      "cell_type": "code",
      "execution_count": null,
      "id": "6a0e79b1",
      "metadata": {
        "id": "6a0e79b1",
        "outputId": "098ded1a-8a29-4283-9667-3a3dec491035"
      },
      "outputs": [
        {
          "data": {
            "text/plain": [
              "Text(0.5, 1.0, 'Top 10 songs streamed on Spotify')"
            ]
          },
          "execution_count": 46,
          "metadata": {},
          "output_type": "execute_result"
        },
        {
          "data": {
            "image/png": "[encoded data removed]",
            "text/plain": [
              "<Figure size 432x288 with 1 Axes>"
            ]
          },
          "metadata": {
            "needs_background": "light"
          },
          "output_type": "display_data"
        }
      ],
      "source": [
        "#Top 10 streamed songs on Spotify\n",
        "top_streamed_spotify = df[['track_name', 'artist(s)_name' , 'streams', 'released_year']].sort_values(by='streams', ascending=False);\n",
        "\n",
        "sns.barplot(x=top_streamed_spotify[:11]['streams'], y=top_streamed_spotify[:11]['track_name'], palette='crest')\n",
        "plt.xlabel(\"Total streams (in billions)\")\n",
        "plt.ylabel(\"Track Name\")\n",
        "plt.title(\"Top 10 songs streamed on Spotify\")"
      ]
    },
    {
      "cell_type": "code",
      "execution_count": null,
      "id": "40ab47ab",
      "metadata": {
        "id": "40ab47ab",
        "outputId": "be93ae76-6765-440a-8109-359e10d2ef8e"
      },
      "outputs": [
        {
          "data": {
            "text/plain": [
              "array([2, 1, 3, 8, 4, 5, 6, 7], dtype=int64)"
            ]
          },
          "execution_count": 28,
          "metadata": {},
          "output_type": "execute_result"
        }
      ],
      "source": [
        "unique_arr = df[\"artist_count\"].unique()\n",
        "unique_arr"
      ]
    },
    {
      "cell_type": "code",
      "execution_count": null,
      "id": "b54761b0",
      "metadata": {
        "id": "b54761b0",
        "outputId": "d29bedd8-41d2-480c-8fce-afda29f219b1"
      },
      "outputs": [
        {
          "data": {
            "image/png": "[encoded data removed]",
            "text/plain": [
              "<Figure size 432x288 with 1 Axes>"
            ]
          },
          "metadata": {},
          "output_type": "display_data"
        }
      ],
      "source": [
        "pie_arr=[]\n",
        "for i in unique_arr:\n",
        "    pie_arr.append(df.loc[df[\"artist_count\"]==i][\"artist_count\"].sum().tolist())\n",
        "labels = unique_arr\n",
        "explode = [0.05,0,0.05,0.2,0.2,0.2,0.2,0.2]\n",
        "plt.pie(pie_arr,labels = labels,explode = explode)\n",
        "plt.title(\"distribution of number of artists in each song\")\n",
        "plt.legend()\n",
        "plt.show()"
      ]
    },
    {
      "cell_type": "code",
      "execution_count": null,
      "id": "4bd03099",
      "metadata": {
        "id": "4bd03099",
        "outputId": "45158ddd-54b2-4937-ae27-d7bb26ef1b8d"
      },
      "outputs": [
        {
          "data": {
            "image/png": "[encoded data removed]",
            "text/plain": [
              "<Figure size 432x288 with 1 Axes>"
            ]
          },
          "metadata": {
            "needs_background": "light"
          },
          "output_type": "display_data"
        }
      ],
      "source": [
        "values_NoArtists = []\n",
        "for i in unique_arr:\n",
        "    values_NoArtists.append(df.loc[df[\"artist_count\"]==i][\"streams\"].mean())\n",
        "sns.barplot(x=unique_arr,y=values_NoArtists)\n",
        "plt.title(\"Number of streams for the number of artists in a song\")\n",
        "plt.xlabel(\"Number of artists\")\n",
        "plt.ylabel(\"Number of streams\")\n",
        "plt.show()"
      ]
    },
    {
      "cell_type": "code",
      "execution_count": null,
      "id": "0d79f7ce",
      "metadata": {
        "id": "0d79f7ce",
        "outputId": "f18ee325-4cfd-420c-e1d0-4ff12de390c0"
      },
      "outputs": [
        {
          "data": {
            "image/png": "[encoded data removed]",
            "text/plain": [
              "<Figure size 432x288 with 1 Axes>"
            ]
          },
          "metadata": {
            "needs_background": "light"
          },
          "output_type": "display_data"
        }
      ],
      "source": [
        "values_bpm = [\n",
        "    df.loc[(df[\"bpm\"]>=65) & (df[\"bpm\"]<=105)][\"streams\"].mean(),\n",
        "    df.loc[(df[\"bpm\"]>=106) & (df[\"bpm\"]<=125)][\"streams\"].mean(),\n",
        "    df.loc[(df[\"bpm\"]>=126) & (df[\"bpm\"]<=145)][\"streams\"].mean(),\n",
        "    df.loc[(df[\"bpm\"]>=146) & (df[\"bpm\"]<=165)][\"streams\"].mean(),\n",
        "    df.loc[(df[\"bpm\"]>=166) & (df[\"bpm\"]<=185)][\"streams\"].mean(),\n",
        "    df.loc[(df[\"bpm\"]>=186) & (df[\"bpm\"]<=206)][\"streams\"].mean(),\n",
        "]\n",
        "labels_bpm = [\"65-105\",\"106-125\",\"126-145\",\"146-165\",\"166-185\",\"186-206\"]\n",
        "sns.barplot(x =labels_bpm,y=values_bpm)\n",
        "plt.title(\"Number of streams for beats per minute of a song\")\n",
        "plt.xlabel(\"Ranges of beats per minute of songs\")\n",
        "plt.ylabel(\"Number of streams\")\n",
        "plt.show()"
      ]
    },
    {
      "cell_type": "code",
      "execution_count": null,
      "id": "cfec5078",
      "metadata": {
        "id": "cfec5078",
        "outputId": "ad3fb295-9960-4073-a50e-97fe4cb6f11b"
      },
      "outputs": [
        {
          "data": {
            "image/png": "[encoded data removed]",
            "text/plain": [
              "<Figure size 864x432 with 1 Axes>"
            ]
          },
          "metadata": {
            "needs_background": "light"
          },
          "output_type": "display_data"
        }
      ],
      "source": [
        "songs_by_year = df['released_year'].value_counts().reset_index()\n",
        "songs_by_year.columns = ['released_year', 'count']\n",
        "# Plotting using Seaborn\n",
        "plt.figure(figsize=(12, 6))\n",
        "sns.barplot(x='released_year', y='count', data=songs_by_year.head(14), palette='viridis')\n",
        "plt.title('Number of Songs by Release Year')\n",
        "plt.xlabel('Release Year')\n",
        "plt.ylabel('Number of Songs')\n",
        "plt.show()"
      ]
    },
    {
      "cell_type": "code",
      "execution_count": null,
      "id": "db855afe",
      "metadata": {
        "id": "db855afe",
        "outputId": "5befeb12-3c3e-4f84-ef61-64d0326144a1"
      },
      "outputs": [
        {
          "data": {
            "image/png": "[encoded data removed]",
            "text/plain": [
              "<Figure size 432x288 with 1 Axes>"
            ]
          },
          "metadata": {
            "needs_background": "light"
          },
          "output_type": "display_data"
        }
      ],
      "source": [
        "filtered_data = df[(df['released_year'] >= 2020) & (df['released_year'] <= 2023)]\n",
        "song_counts_by_year = filtered_data['released_year'].value_counts().sort_index()\n",
        "plt.plot(song_counts_by_year.index, song_counts_by_year.values, marker='o', linestyle='-', color='b')\n",
        "plt.xlabel('Year')\n",
        "plt.ylabel('Number of Songs Released')\n",
        "plt.title('Evolution of Songs Released on Spotify (2020-2023)')\n",
        "plt.grid(True)"
      ]
    },
    {
      "cell_type": "code",
      "execution_count": null,
      "id": "bd59a144",
      "metadata": {
        "id": "bd59a144",
        "outputId": "3c1dd44f-69d0-42ed-fdff-1c584a3a6e7d"
      },
      "outputs": [
        {
          "data": {
            "text/plain": [
              "0       7\n",
              "1       3\n",
              "2       6\n",
              "3       8\n",
              "4       5\n",
              "       ..\n",
              "948    11\n",
              "949    10\n",
              "950    11\n",
              "951    10\n",
              "952    11\n",
              "Name: released_month, Length: 952, dtype: int64"
            ]
          },
          "execution_count": 36,
          "metadata": {},
          "output_type": "execute_result"
        }
      ],
      "source": [
        "df['released_month']"
      ]
    },
    {
      "cell_type": "code",
      "execution_count": null,
      "id": "088bda54",
      "metadata": {
        "id": "088bda54",
        "outputId": "fd20aff2-1019-49c4-ce95-3376541a8bec"
      },
      "outputs": [
        {
          "data": {
            "text/plain": [
              "<AxesSubplot:xlabel='released_month', ylabel='count'>"
            ]
          },
          "execution_count": 38,
          "metadata": {},
          "output_type": "execute_result"
        },
        {
          "data": {
            "image/png": "[encoded data removed]",
            "text/plain": [
              "<Figure size 1440x720 with 1 Axes>"
            ]
          },
          "metadata": {
            "needs_background": "light"
          },
          "output_type": "display_data"
        }
      ],
      "source": [
        "plt.figure(figsize=(20,10))\n",
        "sns.countplot(data=df,x=\"released_month\")"
      ]
    },
    {
      "cell_type": "code",
      "execution_count": null,
      "id": "efcfe5ea",
      "metadata": {
        "id": "efcfe5ea",
        "outputId": "990cf8ba-ef2a-4952-d79f-2909b68e054c"
      },
      "outputs": [
        {
          "data": {
            "image/png": "[encoded data removed]",
            "text/plain": [
              "<Figure size 432x288 with 1 Axes>"
            ]
          },
          "metadata": {
            "needs_background": "light"
          },
          "output_type": "display_data"
        }
      ],
      "source": [
        "songs_by_day = df.groupby('released_day')['track_name'].count()\n",
        "songs_by_day.plot(kind='bar', color='salmon')\n",
        "plt.xlabel('Day of the Month')\n",
        "plt.ylabel('Number of Songs Released')\n",
        "plt.title('Distribution of Songs by Day of the Month')\n",
        "\n",
        "plt.tight_layout()"
      ]
    },
    {
      "cell_type": "code",
      "execution_count": null,
      "id": "0dc6b22b",
      "metadata": {
        "id": "0dc6b22b",
        "outputId": "f9447648-86fa-49e0-8fcc-694304217def"
      },
      "outputs": [
        {
          "data": {
            "text/plain": [
              "Text(0.5, 1.0, 'Correlation Between Danceability, Valence, and Energy')"
            ]
          },
          "execution_count": 40,
          "metadata": {},
          "output_type": "execute_result"
        },
        {
          "data": {
            "image/png": "[encoded data removed]",
            "text/plain": [
              "<Figure size 432x288 with 2 Axes>"
            ]
          },
          "metadata": {
            "needs_background": "light"
          },
          "output_type": "display_data"
        }
      ],
      "source": [
        "correlation_matrix = df[['danceability_%', 'valence_%', 'energy_%']].corr()\n",
        "sns.heatmap(correlation_matrix, annot=True, cmap='coolwarm', fmt=\".2f\", linewidths=0.5)\n",
        "plt.title('Correlation Between Danceability, Valence, and Energy')"
      ]
    },
    {
      "cell_type": "code",
      "execution_count": null,
      "id": "92686083",
      "metadata": {
        "id": "92686083",
        "outputId": "b2e5e11e-b6f0-4fe5-d256-d58ad0dd2d7f"
      },
      "outputs": [
        {
          "data": {
            "text/html": [
              "<div>\n",
              "<style scoped>\n",
              "    .dataframe tbody tr th:only-of-type {\n",
              "        vertical-align: middle;\n",
              "    }\n",
              "\n",
              "    .dataframe tbody tr th {\n",
              "        vertical-align: top;\n",
              "    }\n",
              "\n",
              "    .dataframe thead th {\n",
              "        text-align: right;\n",
              "    }\n",
              "</style>\n",
              "<table border=\"1\" class=\"dataframe\">\n",
              "  <thead>\n",
              "    <tr style=\"text-align: right;\">\n",
              "      <th></th>\n",
              "      <th>in_spotify_playlists</th>\n",
              "      <th>in_spotify_charts</th>\n",
              "      <th>in_apple_playlists</th>\n",
              "      <th>in_apple_charts</th>\n",
              "      <th>in_deezer_charts</th>\n",
              "    </tr>\n",
              "  </thead>\n",
              "  <tbody>\n",
              "    <tr>\n",
              "      <th>in_spotify_playlists</th>\n",
              "      <td>1.000000</td>\n",
              "      <td>0.164182</td>\n",
              "      <td>0.708258</td>\n",
              "      <td>0.271162</td>\n",
              "      <td>0.144227</td>\n",
              "    </tr>\n",
              "    <tr>\n",
              "      <th>in_spotify_charts</th>\n",
              "      <td>0.164182</td>\n",
              "      <td>1.000000</td>\n",
              "      <td>0.233057</td>\n",
              "      <td>0.551985</td>\n",
              "      <td>0.600101</td>\n",
              "    </tr>\n",
              "    <tr>\n",
              "      <th>in_apple_playlists</th>\n",
              "      <td>0.708258</td>\n",
              "      <td>0.233057</td>\n",
              "      <td>1.000000</td>\n",
              "      <td>0.414184</td>\n",
              "      <td>0.368862</td>\n",
              "    </tr>\n",
              "    <tr>\n",
              "      <th>in_apple_charts</th>\n",
              "      <td>0.271162</td>\n",
              "      <td>0.551985</td>\n",
              "      <td>0.414184</td>\n",
              "      <td>1.000000</td>\n",
              "      <td>0.383443</td>\n",
              "    </tr>\n",
              "    <tr>\n",
              "      <th>in_deezer_charts</th>\n",
              "      <td>0.144227</td>\n",
              "      <td>0.600101</td>\n",
              "      <td>0.368862</td>\n",
              "      <td>0.383443</td>\n",
              "      <td>1.000000</td>\n",
              "    </tr>\n",
              "  </tbody>\n",
              "</table>\n",
              "</div>"
            ],
            "text/plain": [
              "                      in_spotify_playlists  in_spotify_charts  \\\n",
              "in_spotify_playlists              1.000000           0.164182   \n",
              "in_spotify_charts                 0.164182           1.000000   \n",
              "in_apple_playlists                0.708258           0.233057   \n",
              "in_apple_charts                   0.271162           0.551985   \n",
              "in_deezer_charts                  0.144227           0.600101   \n",
              "\n",
              "                      in_apple_playlists  in_apple_charts  in_deezer_charts  \n",
              "in_spotify_playlists            0.708258         0.271162          0.144227  \n",
              "in_spotify_charts               0.233057         0.551985          0.600101  \n",
              "in_apple_playlists              1.000000         0.414184          0.368862  \n",
              "in_apple_charts                 0.414184         1.000000          0.383443  \n",
              "in_deezer_charts                0.368862         0.383443          1.000000  "
            ]
          },
          "execution_count": 47,
          "metadata": {},
          "output_type": "execute_result"
        }
      ],
      "source": [
        "cross_platform_columns = [\n",
        "    'in_spotify_playlists', 'in_spotify_charts', 'in_apple_playlists',\n",
        "    'in_apple_charts', 'in_deezer_playlists', 'in_deezer_charts', 'in_shazam_charts'\n",
        "]\n",
        "cross_platform_corr_matrix = df[cross_platform_columns].corr()\n",
        "cross_platform_corr_matrix"
      ]
    },
    {
      "cell_type": "code",
      "execution_count": null,
      "id": "76196b8d",
      "metadata": {
        "id": "76196b8d",
        "outputId": "e9fec8d3-ccb2-4e4b-d68f-429afa4a3788"
      },
      "outputs": [
        {
          "data": {
            "text/plain": [
              "Text(0.5, 1.0, 'Correlation Heatmap: Cross-Platform Metrics')"
            ]
          },
          "execution_count": 48,
          "metadata": {},
          "output_type": "execute_result"
        },
        {
          "data": {
            "image/png": "[encoded data removed]",
            "text/plain": [
              "<Figure size 432x288 with 2 Axes>"
            ]
          },
          "metadata": {
            "needs_background": "light"
          },
          "output_type": "display_data"
        }
      ],
      "source": [
        "sns.heatmap(cross_platform_corr_matrix, annot=True, cmap='crest')\n",
        "plt.title('Correlation Heatmap: Cross-Platform Metrics')"
      ]
    },
    {
      "cell_type": "code",
      "execution_count": null,
      "id": "6100caee",
      "metadata": {
        "id": "6100caee"
      },
      "outputs": [],
      "source": []
    }
  ],
  "metadata": {
    "kernelspec": {
      "display_name": "Python 3 (ipykernel)",
      "language": "python",
      "name": "python3"
    },
    "language_info": {
      "codemirror_mode": {
        "name": "ipython",
        "version": 3
      },
      "file_extension": ".py",
      "mimetype": "text/x-python",
      "name": "python",
      "nbconvert_exporter": "python",
      "pygments_lexer": "ipython3",
      "version": "3.9.12"
    },
    "colab": {
      "provenance": []
    }
  },
  "nbformat": 4,
  "nbformat_minor": 5
}